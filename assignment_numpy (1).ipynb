{
  "nbformat": 4,
  "nbformat_minor": 0,
  "metadata": {
    "colab": {
      "name": "assignment_numpy.ipynb",
      "provenance": [],
      "toc_visible": true
    },
    "kernelspec": {
      "name": "python3",
      "display_name": "Python 3"
    },
    "language_info": {
      "name": "python"
    }
  },
  "cells": [
    {
      "cell_type": "markdown",
      "metadata": {
        "id": "3uJtJytKWe4j"
      },
      "source": [
        "1) Generate an array of zeroes using inbuilt numpy function.¶"
      ]
    },
    {
      "cell_type": "code",
      "metadata": {
        "colab": {
          "base_uri": "https://localhost:8080/"
        },
        "id": "ty2Dk_VPWijM",
        "outputId": "65701f1b-7e9c-435f-9f98-de85869a960c"
      },
      "source": [
        "import numpy as np\n",
        "zeros=np.zeros((2,5))\n",
        "zeros"
      ],
      "execution_count": 2,
      "outputs": [
        {
          "output_type": "execute_result",
          "data": {
            "text/plain": [
              "array([[0., 0., 0., 0., 0.],\n",
              "       [0., 0., 0., 0., 0.]])"
            ]
          },
          "metadata": {},
          "execution_count": 2
        }
      ]
    },
    {
      "cell_type": "markdown",
      "metadata": {
        "id": "HGA1m8QViXnN"
      },
      "source": [
        "2) Run the given code and find the dot product of both arrays."
      ]
    },
    {
      "cell_type": "code",
      "metadata": {
        "colab": {
          "base_uri": "https://localhost:8080/"
        },
        "id": "v__KoYyyicBq",
        "outputId": "625162d0-6319-497b-ece4-fdec842f454e"
      },
      "source": [
        "import numpy as np\n",
        "a = np.random.randint(2,10, (3,4))\n",
        "b = np.random.randint(2,10, (4,3))\n",
        "print(a)\n",
        "print(b)"
      ],
      "execution_count": 1,
      "outputs": [
        {
          "output_type": "stream",
          "text": [
            "[[3 5 6 9]\n",
            " [2 8 4 8]\n",
            " [8 4 3 9]]\n",
            "[[8 9 8]\n",
            " [7 5 2]\n",
            " [5 3 3]\n",
            " [8 4 9]]\n"
          ],
          "name": "stdout"
        }
      ]
    },
    {
      "cell_type": "code",
      "metadata": {
        "colab": {
          "base_uri": "https://localhost:8080/"
        },
        "id": "q8YLNP9mi9OM",
        "outputId": "e3dc1425-b9d8-4bf7-97b2-1c63279a1e05"
      },
      "source": [
        "a.dot(b)"
      ],
      "execution_count": 2,
      "outputs": [
        {
          "output_type": "execute_result",
          "data": {
            "text/plain": [
              "array([[161, 106, 133],\n",
              "       [156, 102, 116],\n",
              "       [179, 137, 162]])"
            ]
          },
          "metadata": {},
          "execution_count": 2
        }
      ]
    },
    {
      "cell_type": "code",
      "metadata": {
        "colab": {
          "base_uri": "https://localhost:8080/"
        },
        "id": "j6PKYLhSjJ6G",
        "outputId": "f497819a-79ec-4c8e-8f3f-57ed9f3c7458"
      },
      "source": [
        "b.dot(a)"
      ],
      "execution_count": 3,
      "outputs": [
        {
          "output_type": "execute_result",
          "data": {
            "text/plain": [
              "array([[106, 144, 108, 216],\n",
              "       [ 47,  83,  68, 121],\n",
              "       [ 45,  61,  51,  96],\n",
              "       [104, 108,  91, 185]])"
            ]
          },
          "metadata": {},
          "execution_count": 3
        }
      ]
    },
    {
      "cell_type": "markdown",
      "metadata": {
        "id": "4pJ3AIGnjW9W"
      },
      "source": [
        "3)Read the csv file provided using pandas and display the first 5 entries¶\n"
      ]
    },
    {
      "cell_type": "code",
      "metadata": {
        "colab": {
          "base_uri": "https://localhost:8080/",
          "height": 815
        },
        "id": "F2OBQ7gQjkmu",
        "outputId": "f37e6d0a-5206-4597-e8f7-e583bff0a0fb"
      },
      "source": [
        "import pandas as pd\n",
        "df =pd.read_csv('/content/data.csv')\n",
        "df"
      ],
      "execution_count": 4,
      "outputs": [
        {
          "output_type": "execute_result",
          "data": {
            "text/html": [
              "<div>\n",
              "<style scoped>\n",
              "    .dataframe tbody tr th:only-of-type {\n",
              "        vertical-align: middle;\n",
              "    }\n",
              "\n",
              "    .dataframe tbody tr th {\n",
              "        vertical-align: top;\n",
              "    }\n",
              "\n",
              "    .dataframe thead th {\n",
              "        text-align: right;\n",
              "    }\n",
              "</style>\n",
              "<table border=\"1\" class=\"dataframe\">\n",
              "  <thead>\n",
              "    <tr style=\"text-align: right;\">\n",
              "      <th></th>\n",
              "      <th>OBJECTID</th>\n",
              "      <th>UNIT_NAME</th>\n",
              "      <th>DESCRIPTION</th>\n",
              "      <th>ACRES</th>\n",
              "      <th>SHAPE.AREA</th>\n",
              "      <th>SHAPE.LEN</th>\n",
              "    </tr>\n",
              "  </thead>\n",
              "  <tbody>\n",
              "    <tr>\n",
              "      <th>0</th>\n",
              "      <td>21</td>\n",
              "      <td>Fort Stevenson State Park</td>\n",
              "      <td>State Park</td>\n",
              "      <td>586.48</td>\n",
              "      <td>0.000284</td>\n",
              "      <td>0.135641</td>\n",
              "    </tr>\n",
              "    <tr>\n",
              "      <th>1</th>\n",
              "      <td>22</td>\n",
              "      <td>Beaver Lake State Park</td>\n",
              "      <td>State Park</td>\n",
              "      <td>273.16</td>\n",
              "      <td>0.000129</td>\n",
              "      <td>0.080067</td>\n",
              "    </tr>\n",
              "    <tr>\n",
              "      <th>2</th>\n",
              "      <td>23</td>\n",
              "      <td>Fort Abraham Lincoln State Park</td>\n",
              "      <td>State Park</td>\n",
              "      <td>836.47</td>\n",
              "      <td>0.000399</td>\n",
              "      <td>0.119868</td>\n",
              "    </tr>\n",
              "    <tr>\n",
              "      <th>3</th>\n",
              "      <td>24</td>\n",
              "      <td>Fort Ransom State Park</td>\n",
              "      <td>State Park</td>\n",
              "      <td>933.78</td>\n",
              "      <td>0.000444</td>\n",
              "      <td>0.128733</td>\n",
              "    </tr>\n",
              "    <tr>\n",
              "      <th>4</th>\n",
              "      <td>25</td>\n",
              "      <td>Grahams Island State Park</td>\n",
              "      <td>State Park</td>\n",
              "      <td>959.33</td>\n",
              "      <td>0.000469</td>\n",
              "      <td>0.125546</td>\n",
              "    </tr>\n",
              "    <tr>\n",
              "      <th>5</th>\n",
              "      <td>26</td>\n",
              "      <td>Icelandic State Park</td>\n",
              "      <td>State Park</td>\n",
              "      <td>930.30</td>\n",
              "      <td>0.000461</td>\n",
              "      <td>0.166712</td>\n",
              "    </tr>\n",
              "    <tr>\n",
              "      <th>6</th>\n",
              "      <td>27</td>\n",
              "      <td>Lake Metigoshe State Park</td>\n",
              "      <td>State Park</td>\n",
              "      <td>1508.53</td>\n",
              "      <td>0.000751</td>\n",
              "      <td>0.212196</td>\n",
              "    </tr>\n",
              "    <tr>\n",
              "      <th>7</th>\n",
              "      <td>28</td>\n",
              "      <td>Lewis and Clark State Park</td>\n",
              "      <td>State Park</td>\n",
              "      <td>524.81</td>\n",
              "      <td>0.000256</td>\n",
              "      <td>0.130420</td>\n",
              "    </tr>\n",
              "    <tr>\n",
              "      <th>8</th>\n",
              "      <td>29</td>\n",
              "      <td>Lewis and Clark Interpretive Center</td>\n",
              "      <td>Interpretive Center</td>\n",
              "      <td>14.71</td>\n",
              "      <td>0.000007</td>\n",
              "      <td>0.016774</td>\n",
              "    </tr>\n",
              "    <tr>\n",
              "      <th>9</th>\n",
              "      <td>30</td>\n",
              "      <td>Fort Mandan State Recreation Area</td>\n",
              "      <td>State Recreation Area</td>\n",
              "      <td>11.40</td>\n",
              "      <td>0.000005</td>\n",
              "      <td>0.009396</td>\n",
              "    </tr>\n",
              "    <tr>\n",
              "      <th>10</th>\n",
              "      <td>31</td>\n",
              "      <td>Little Missouri State Park</td>\n",
              "      <td>State Park</td>\n",
              "      <td>6492.93</td>\n",
              "      <td>0.003136</td>\n",
              "      <td>0.313756</td>\n",
              "    </tr>\n",
              "    <tr>\n",
              "      <th>11</th>\n",
              "      <td>32</td>\n",
              "      <td>Sully Creek State Park</td>\n",
              "      <td>State Park</td>\n",
              "      <td>63.03</td>\n",
              "      <td>0.000030</td>\n",
              "      <td>0.024016</td>\n",
              "    </tr>\n",
              "    <tr>\n",
              "      <th>12</th>\n",
              "      <td>35</td>\n",
              "      <td>Butte St. Paul State Recreation Area</td>\n",
              "      <td>State Recreation Area</td>\n",
              "      <td>51.23</td>\n",
              "      <td>0.000025</td>\n",
              "      <td>0.022095</td>\n",
              "    </tr>\n",
              "    <tr>\n",
              "      <th>13</th>\n",
              "      <td>36</td>\n",
              "      <td>Crow Flies High State Recreation Area</td>\n",
              "      <td>State Recreation Area</td>\n",
              "      <td>247.11</td>\n",
              "      <td>0.000120</td>\n",
              "      <td>0.050518</td>\n",
              "    </tr>\n",
              "    <tr>\n",
              "      <th>14</th>\n",
              "      <td>33</td>\n",
              "      <td>Turtle River State Park</td>\n",
              "      <td>State Park</td>\n",
              "      <td>775.28</td>\n",
              "      <td>0.000378</td>\n",
              "      <td>0.145220</td>\n",
              "    </tr>\n",
              "    <tr>\n",
              "      <th>15</th>\n",
              "      <td>34</td>\n",
              "      <td>Lake Sakakawea State Park</td>\n",
              "      <td>State Park</td>\n",
              "      <td>739.52</td>\n",
              "      <td>0.000357</td>\n",
              "      <td>0.191806</td>\n",
              "    </tr>\n",
              "    <tr>\n",
              "      <th>16</th>\n",
              "      <td>37</td>\n",
              "      <td>Elkhorn State Natural Area</td>\n",
              "      <td>State Natural Area</td>\n",
              "      <td>264.84</td>\n",
              "      <td>0.000127</td>\n",
              "      <td>0.067082</td>\n",
              "    </tr>\n",
              "    <tr>\n",
              "      <th>17</th>\n",
              "      <td>38</td>\n",
              "      <td>Fahlgren Park State Recreation Area</td>\n",
              "      <td>State Recreation Area</td>\n",
              "      <td>21.56</td>\n",
              "      <td>0.000010</td>\n",
              "      <td>0.013294</td>\n",
              "    </tr>\n",
              "    <tr>\n",
              "      <th>18</th>\n",
              "      <td>39</td>\n",
              "      <td>Gunlogson State Nature Preserve</td>\n",
              "      <td>State Nature Preserve</td>\n",
              "      <td>95.89</td>\n",
              "      <td>0.000048</td>\n",
              "      <td>0.040465</td>\n",
              "    </tr>\n",
              "    <tr>\n",
              "      <th>19</th>\n",
              "      <td>40</td>\n",
              "      <td>Head of the Mountain State Nature Preserve</td>\n",
              "      <td>State Nature Preserve</td>\n",
              "      <td>72.30</td>\n",
              "      <td>0.000034</td>\n",
              "      <td>0.033885</td>\n",
              "    </tr>\n",
              "    <tr>\n",
              "      <th>20</th>\n",
              "      <td>41</td>\n",
              "      <td>Missouri River State Natural Area</td>\n",
              "      <td>State Natural Area</td>\n",
              "      <td>174.39</td>\n",
              "      <td>0.000083</td>\n",
              "      <td>0.087192</td>\n",
              "    </tr>\n",
              "    <tr>\n",
              "      <th>21</th>\n",
              "      <td>43</td>\n",
              "      <td>Pembina Gorge State Recreation Area</td>\n",
              "      <td>State Recreation Area</td>\n",
              "      <td>1236.98</td>\n",
              "      <td>0.000615</td>\n",
              "      <td>0.338800</td>\n",
              "    </tr>\n",
              "    <tr>\n",
              "      <th>22</th>\n",
              "      <td>44</td>\n",
              "      <td>Turtle Mountain State Recreation Area</td>\n",
              "      <td>State Recreation Area</td>\n",
              "      <td>695.04</td>\n",
              "      <td>0.000345</td>\n",
              "      <td>0.086487</td>\n",
              "    </tr>\n",
              "    <tr>\n",
              "      <th>23</th>\n",
              "      <td>45</td>\n",
              "      <td>Cross Ranch State Park</td>\n",
              "      <td>State Park</td>\n",
              "      <td>569.07</td>\n",
              "      <td>0.000274</td>\n",
              "      <td>0.180257</td>\n",
              "    </tr>\n",
              "    <tr>\n",
              "      <th>24</th>\n",
              "      <td>42</td>\n",
              "      <td>Pelican Point State Recreation Area</td>\n",
              "      <td>State Recreation Area</td>\n",
              "      <td>25.22</td>\n",
              "      <td>0.000013</td>\n",
              "      <td>0.026357</td>\n",
              "    </tr>\n",
              "  </tbody>\n",
              "</table>\n",
              "</div>"
            ],
            "text/plain": [
              "    OBJECTID                                   UNIT_NAME  ... SHAPE.AREA  SHAPE.LEN\n",
              "0         21                   Fort Stevenson State Park  ...   0.000284   0.135641\n",
              "1         22                      Beaver Lake State Park  ...   0.000129   0.080067\n",
              "2         23             Fort Abraham Lincoln State Park  ...   0.000399   0.119868\n",
              "3         24                      Fort Ransom State Park  ...   0.000444   0.128733\n",
              "4         25                   Grahams Island State Park  ...   0.000469   0.125546\n",
              "5         26                        Icelandic State Park  ...   0.000461   0.166712\n",
              "6         27                   Lake Metigoshe State Park  ...   0.000751   0.212196\n",
              "7         28                  Lewis and Clark State Park  ...   0.000256   0.130420\n",
              "8         29         Lewis and Clark Interpretive Center  ...   0.000007   0.016774\n",
              "9         30           Fort Mandan State Recreation Area  ...   0.000005   0.009396\n",
              "10        31                  Little Missouri State Park  ...   0.003136   0.313756\n",
              "11        32                      Sully Creek State Park  ...   0.000030   0.024016\n",
              "12        35        Butte St. Paul State Recreation Area  ...   0.000025   0.022095\n",
              "13        36       Crow Flies High State Recreation Area  ...   0.000120   0.050518\n",
              "14        33                     Turtle River State Park  ...   0.000378   0.145220\n",
              "15        34                   Lake Sakakawea State Park  ...   0.000357   0.191806\n",
              "16        37                  Elkhorn State Natural Area  ...   0.000127   0.067082\n",
              "17        38         Fahlgren Park State Recreation Area  ...   0.000010   0.013294\n",
              "18        39             Gunlogson State Nature Preserve  ...   0.000048   0.040465\n",
              "19        40  Head of the Mountain State Nature Preserve  ...   0.000034   0.033885\n",
              "20        41           Missouri River State Natural Area  ...   0.000083   0.087192\n",
              "21        43         Pembina Gorge State Recreation Area  ...   0.000615   0.338800\n",
              "22        44       Turtle Mountain State Recreation Area  ...   0.000345   0.086487\n",
              "23        45                      Cross Ranch State Park  ...   0.000274   0.180257\n",
              "24        42         Pelican Point State Recreation Area  ...   0.000013   0.026357\n",
              "\n",
              "[25 rows x 6 columns]"
            ]
          },
          "metadata": {},
          "execution_count": 4
        }
      ]
    },
    {
      "cell_type": "code",
      "metadata": {
        "colab": {
          "base_uri": "https://localhost:8080/",
          "height": 202
        },
        "id": "OMjzl6eVmC7f",
        "outputId": "152f83bb-5f8b-401f-fc97-c66230399a2e"
      },
      "source": [
        "df.head()"
      ],
      "execution_count": 5,
      "outputs": [
        {
          "output_type": "execute_result",
          "data": {
            "text/html": [
              "<div>\n",
              "<style scoped>\n",
              "    .dataframe tbody tr th:only-of-type {\n",
              "        vertical-align: middle;\n",
              "    }\n",
              "\n",
              "    .dataframe tbody tr th {\n",
              "        vertical-align: top;\n",
              "    }\n",
              "\n",
              "    .dataframe thead th {\n",
              "        text-align: right;\n",
              "    }\n",
              "</style>\n",
              "<table border=\"1\" class=\"dataframe\">\n",
              "  <thead>\n",
              "    <tr style=\"text-align: right;\">\n",
              "      <th></th>\n",
              "      <th>OBJECTID</th>\n",
              "      <th>UNIT_NAME</th>\n",
              "      <th>DESCRIPTION</th>\n",
              "      <th>ACRES</th>\n",
              "      <th>SHAPE.AREA</th>\n",
              "      <th>SHAPE.LEN</th>\n",
              "    </tr>\n",
              "  </thead>\n",
              "  <tbody>\n",
              "    <tr>\n",
              "      <th>0</th>\n",
              "      <td>21</td>\n",
              "      <td>Fort Stevenson State Park</td>\n",
              "      <td>State Park</td>\n",
              "      <td>586.48</td>\n",
              "      <td>0.000284</td>\n",
              "      <td>0.135641</td>\n",
              "    </tr>\n",
              "    <tr>\n",
              "      <th>1</th>\n",
              "      <td>22</td>\n",
              "      <td>Beaver Lake State Park</td>\n",
              "      <td>State Park</td>\n",
              "      <td>273.16</td>\n",
              "      <td>0.000129</td>\n",
              "      <td>0.080067</td>\n",
              "    </tr>\n",
              "    <tr>\n",
              "      <th>2</th>\n",
              "      <td>23</td>\n",
              "      <td>Fort Abraham Lincoln State Park</td>\n",
              "      <td>State Park</td>\n",
              "      <td>836.47</td>\n",
              "      <td>0.000399</td>\n",
              "      <td>0.119868</td>\n",
              "    </tr>\n",
              "    <tr>\n",
              "      <th>3</th>\n",
              "      <td>24</td>\n",
              "      <td>Fort Ransom State Park</td>\n",
              "      <td>State Park</td>\n",
              "      <td>933.78</td>\n",
              "      <td>0.000444</td>\n",
              "      <td>0.128733</td>\n",
              "    </tr>\n",
              "    <tr>\n",
              "      <th>4</th>\n",
              "      <td>25</td>\n",
              "      <td>Grahams Island State Park</td>\n",
              "      <td>State Park</td>\n",
              "      <td>959.33</td>\n",
              "      <td>0.000469</td>\n",
              "      <td>0.125546</td>\n",
              "    </tr>\n",
              "  </tbody>\n",
              "</table>\n",
              "</div>"
            ],
            "text/plain": [
              "   OBJECTID                        UNIT_NAME  ... SHAPE.AREA  SHAPE.LEN\n",
              "0        21        Fort Stevenson State Park  ...   0.000284   0.135641\n",
              "1        22           Beaver Lake State Park  ...   0.000129   0.080067\n",
              "2        23  Fort Abraham Lincoln State Park  ...   0.000399   0.119868\n",
              "3        24           Fort Ransom State Park  ...   0.000444   0.128733\n",
              "4        25        Grahams Island State Park  ...   0.000469   0.125546\n",
              "\n",
              "[5 rows x 6 columns]"
            ]
          },
          "metadata": {},
          "execution_count": 5
        }
      ]
    },
    {
      "cell_type": "markdown",
      "metadata": {
        "id": "iR-hOpbvmmnO"
      },
      "source": [
        "4)Describe the data with all features."
      ]
    },
    {
      "cell_type": "code",
      "metadata": {
        "colab": {
          "base_uri": "https://localhost:8080/",
          "height": 294
        },
        "id": "PonDmBPAmwVt",
        "outputId": "059cb50a-1489-4da0-a0c8-35dc6c230a8c"
      },
      "source": [
        "df.describe()"
      ],
      "execution_count": 6,
      "outputs": [
        {
          "output_type": "execute_result",
          "data": {
            "text/html": [
              "<div>\n",
              "<style scoped>\n",
              "    .dataframe tbody tr th:only-of-type {\n",
              "        vertical-align: middle;\n",
              "    }\n",
              "\n",
              "    .dataframe tbody tr th {\n",
              "        vertical-align: top;\n",
              "    }\n",
              "\n",
              "    .dataframe thead th {\n",
              "        text-align: right;\n",
              "    }\n",
              "</style>\n",
              "<table border=\"1\" class=\"dataframe\">\n",
              "  <thead>\n",
              "    <tr style=\"text-align: right;\">\n",
              "      <th></th>\n",
              "      <th>OBJECTID</th>\n",
              "      <th>ACRES</th>\n",
              "      <th>SHAPE.AREA</th>\n",
              "      <th>SHAPE.LEN</th>\n",
              "    </tr>\n",
              "  </thead>\n",
              "  <tbody>\n",
              "    <tr>\n",
              "      <th>count</th>\n",
              "      <td>25.000000</td>\n",
              "      <td>25.000000</td>\n",
              "      <td>25.000000</td>\n",
              "      <td>25.000000</td>\n",
              "    </tr>\n",
              "    <tr>\n",
              "      <th>mean</th>\n",
              "      <td>33.000000</td>\n",
              "      <td>724.134400</td>\n",
              "      <td>0.000352</td>\n",
              "      <td>0.109863</td>\n",
              "    </tr>\n",
              "    <tr>\n",
              "      <th>std</th>\n",
              "      <td>7.359801</td>\n",
              "      <td>1275.490247</td>\n",
              "      <td>0.000617</td>\n",
              "      <td>0.089073</td>\n",
              "    </tr>\n",
              "    <tr>\n",
              "      <th>min</th>\n",
              "      <td>21.000000</td>\n",
              "      <td>11.400000</td>\n",
              "      <td>0.000005</td>\n",
              "      <td>0.009396</td>\n",
              "    </tr>\n",
              "    <tr>\n",
              "      <th>25%</th>\n",
              "      <td>27.000000</td>\n",
              "      <td>72.300000</td>\n",
              "      <td>0.000034</td>\n",
              "      <td>0.033885</td>\n",
              "    </tr>\n",
              "    <tr>\n",
              "      <th>50%</th>\n",
              "      <td>33.000000</td>\n",
              "      <td>524.810000</td>\n",
              "      <td>0.000256</td>\n",
              "      <td>0.087192</td>\n",
              "    </tr>\n",
              "    <tr>\n",
              "      <th>75%</th>\n",
              "      <td>39.000000</td>\n",
              "      <td>836.470000</td>\n",
              "      <td>0.000399</td>\n",
              "      <td>0.145220</td>\n",
              "    </tr>\n",
              "    <tr>\n",
              "      <th>max</th>\n",
              "      <td>45.000000</td>\n",
              "      <td>6492.930000</td>\n",
              "      <td>0.003136</td>\n",
              "      <td>0.338800</td>\n",
              "    </tr>\n",
              "  </tbody>\n",
              "</table>\n",
              "</div>"
            ],
            "text/plain": [
              "        OBJECTID        ACRES  SHAPE.AREA  SHAPE.LEN\n",
              "count  25.000000    25.000000   25.000000  25.000000\n",
              "mean   33.000000   724.134400    0.000352   0.109863\n",
              "std     7.359801  1275.490247    0.000617   0.089073\n",
              "min    21.000000    11.400000    0.000005   0.009396\n",
              "25%    27.000000    72.300000    0.000034   0.033885\n",
              "50%    33.000000   524.810000    0.000256   0.087192\n",
              "75%    39.000000   836.470000    0.000399   0.145220\n",
              "max    45.000000  6492.930000    0.003136   0.338800"
            ]
          },
          "metadata": {},
          "execution_count": 6
        }
      ]
    },
    {
      "cell_type": "markdown",
      "metadata": {
        "id": "45Dg1oDhnHM1"
      },
      "source": [
        "\n",
        "5)Find the total count of missing values for each feature.\n"
      ]
    },
    {
      "cell_type": "code",
      "metadata": {
        "colab": {
          "base_uri": "https://localhost:8080/"
        },
        "id": "HLeKijk5nSh0",
        "outputId": "6d118566-05f4-465a-dbdc-ef34e45855f1"
      },
      "source": [
        "df.isna ().sum()"
      ],
      "execution_count": 7,
      "outputs": [
        {
          "output_type": "execute_result",
          "data": {
            "text/plain": [
              "OBJECTID       0\n",
              "UNIT_NAME      0\n",
              "DESCRIPTION    0\n",
              "ACRES          0\n",
              "SHAPE.AREA     0\n",
              "SHAPE.LEN      0\n",
              "dtype: int64"
            ]
          },
          "metadata": {},
          "execution_count": 7
        }
      ]
    },
    {
      "cell_type": "markdown",
      "metadata": {
        "id": "Hcw7mRXrnqSW"
      },
      "source": [
        "6)Display all the unique values from the 'DESCRIPTION’ column.¶"
      ]
    },
    {
      "cell_type": "code",
      "metadata": {
        "colab": {
          "base_uri": "https://localhost:8080/"
        },
        "id": "PWpDky1pn0oO",
        "outputId": "3d13d493-7982-4402-e7d4-745e37e2ae6b"
      },
      "source": [
        "df.DESCRIPTION.unique()"
      ],
      "execution_count": 8,
      "outputs": [
        {
          "output_type": "execute_result",
          "data": {
            "text/plain": [
              "array(['State Park', 'Interpretive Center', 'State Recreation Area',\n",
              "       'State Natural Area', 'State Nature Preserve'], dtype=object)"
            ]
          },
          "metadata": {},
          "execution_count": 8
        }
      ]
    },
    {
      "cell_type": "markdown",
      "metadata": {
        "id": "T9F8DGKRoFE-"
      },
      "source": [
        "7)Create a grouped table usin 'DESCRIPTION' as the grouping columns with the means of all the other columns."
      ]
    },
    {
      "cell_type": "code",
      "metadata": {
        "colab": {
          "base_uri": "https://localhost:8080/",
          "height": 232
        },
        "id": "_4MUmpmtoLLk",
        "outputId": "3353913b-84cc-4257-e763-bab900784451"
      },
      "source": [
        "df.groupby('DESCRIPTION').mean()"
      ],
      "execution_count": 9,
      "outputs": [
        {
          "output_type": "execute_result",
          "data": {
            "text/html": [
              "<div>\n",
              "<style scoped>\n",
              "    .dataframe tbody tr th:only-of-type {\n",
              "        vertical-align: middle;\n",
              "    }\n",
              "\n",
              "    .dataframe tbody tr th {\n",
              "        vertical-align: top;\n",
              "    }\n",
              "\n",
              "    .dataframe thead th {\n",
              "        text-align: right;\n",
              "    }\n",
              "</style>\n",
              "<table border=\"1\" class=\"dataframe\">\n",
              "  <thead>\n",
              "    <tr style=\"text-align: right;\">\n",
              "      <th></th>\n",
              "      <th>OBJECTID</th>\n",
              "      <th>ACRES</th>\n",
              "      <th>SHAPE.AREA</th>\n",
              "      <th>SHAPE.LEN</th>\n",
              "    </tr>\n",
              "    <tr>\n",
              "      <th>DESCRIPTION</th>\n",
              "      <th></th>\n",
              "      <th></th>\n",
              "      <th></th>\n",
              "      <th></th>\n",
              "    </tr>\n",
              "  </thead>\n",
              "  <tbody>\n",
              "    <tr>\n",
              "      <th>Interpretive Center</th>\n",
              "      <td>29.000000</td>\n",
              "      <td>14.710000</td>\n",
              "      <td>0.000007</td>\n",
              "      <td>0.016774</td>\n",
              "    </tr>\n",
              "    <tr>\n",
              "      <th>State Natural Area</th>\n",
              "      <td>39.000000</td>\n",
              "      <td>219.615000</td>\n",
              "      <td>0.000105</td>\n",
              "      <td>0.077137</td>\n",
              "    </tr>\n",
              "    <tr>\n",
              "      <th>State Nature Preserve</th>\n",
              "      <td>39.500000</td>\n",
              "      <td>84.095000</td>\n",
              "      <td>0.000041</td>\n",
              "      <td>0.037175</td>\n",
              "    </tr>\n",
              "    <tr>\n",
              "      <th>State Park</th>\n",
              "      <td>28.538462</td>\n",
              "      <td>1168.668462</td>\n",
              "      <td>0.000567</td>\n",
              "      <td>0.150326</td>\n",
              "    </tr>\n",
              "    <tr>\n",
              "      <th>State Recreation Area</th>\n",
              "      <td>38.285714</td>\n",
              "      <td>326.934286</td>\n",
              "      <td>0.000162</td>\n",
              "      <td>0.078135</td>\n",
              "    </tr>\n",
              "  </tbody>\n",
              "</table>\n",
              "</div>"
            ],
            "text/plain": [
              "                        OBJECTID        ACRES  SHAPE.AREA  SHAPE.LEN\n",
              "DESCRIPTION                                                         \n",
              "Interpretive Center    29.000000    14.710000    0.000007   0.016774\n",
              "State Natural Area     39.000000   219.615000    0.000105   0.077137\n",
              "State Nature Preserve  39.500000    84.095000    0.000041   0.037175\n",
              "State Park             28.538462  1168.668462    0.000567   0.150326\n",
              "State Recreation Area  38.285714   326.934286    0.000162   0.078135"
            ]
          },
          "metadata": {},
          "execution_count": 9
        }
      ]
    },
    {
      "cell_type": "markdown",
      "metadata": {
        "id": "Zcy7oVnTo1y8"
      },
      "source": [
        "8)Generate a random sample of 10 rows from the data.¶"
      ]
    },
    {
      "cell_type": "code",
      "metadata": {
        "colab": {
          "base_uri": "https://localhost:8080/",
          "height": 355
        },
        "id": "MJuYuXgxo8Pk",
        "outputId": "80faa3b0-4c97-49f8-ae3f-a71be99635d8"
      },
      "source": [
        "df.sample(n=10)"
      ],
      "execution_count": 10,
      "outputs": [
        {
          "output_type": "execute_result",
          "data": {
            "text/html": [
              "<div>\n",
              "<style scoped>\n",
              "    .dataframe tbody tr th:only-of-type {\n",
              "        vertical-align: middle;\n",
              "    }\n",
              "\n",
              "    .dataframe tbody tr th {\n",
              "        vertical-align: top;\n",
              "    }\n",
              "\n",
              "    .dataframe thead th {\n",
              "        text-align: right;\n",
              "    }\n",
              "</style>\n",
              "<table border=\"1\" class=\"dataframe\">\n",
              "  <thead>\n",
              "    <tr style=\"text-align: right;\">\n",
              "      <th></th>\n",
              "      <th>OBJECTID</th>\n",
              "      <th>UNIT_NAME</th>\n",
              "      <th>DESCRIPTION</th>\n",
              "      <th>ACRES</th>\n",
              "      <th>SHAPE.AREA</th>\n",
              "      <th>SHAPE.LEN</th>\n",
              "    </tr>\n",
              "  </thead>\n",
              "  <tbody>\n",
              "    <tr>\n",
              "      <th>9</th>\n",
              "      <td>30</td>\n",
              "      <td>Fort Mandan State Recreation Area</td>\n",
              "      <td>State Recreation Area</td>\n",
              "      <td>11.40</td>\n",
              "      <td>0.000005</td>\n",
              "      <td>0.009396</td>\n",
              "    </tr>\n",
              "    <tr>\n",
              "      <th>22</th>\n",
              "      <td>44</td>\n",
              "      <td>Turtle Mountain State Recreation Area</td>\n",
              "      <td>State Recreation Area</td>\n",
              "      <td>695.04</td>\n",
              "      <td>0.000345</td>\n",
              "      <td>0.086487</td>\n",
              "    </tr>\n",
              "    <tr>\n",
              "      <th>13</th>\n",
              "      <td>36</td>\n",
              "      <td>Crow Flies High State Recreation Area</td>\n",
              "      <td>State Recreation Area</td>\n",
              "      <td>247.11</td>\n",
              "      <td>0.000120</td>\n",
              "      <td>0.050518</td>\n",
              "    </tr>\n",
              "    <tr>\n",
              "      <th>1</th>\n",
              "      <td>22</td>\n",
              "      <td>Beaver Lake State Park</td>\n",
              "      <td>State Park</td>\n",
              "      <td>273.16</td>\n",
              "      <td>0.000129</td>\n",
              "      <td>0.080067</td>\n",
              "    </tr>\n",
              "    <tr>\n",
              "      <th>14</th>\n",
              "      <td>33</td>\n",
              "      <td>Turtle River State Park</td>\n",
              "      <td>State Park</td>\n",
              "      <td>775.28</td>\n",
              "      <td>0.000378</td>\n",
              "      <td>0.145220</td>\n",
              "    </tr>\n",
              "    <tr>\n",
              "      <th>6</th>\n",
              "      <td>27</td>\n",
              "      <td>Lake Metigoshe State Park</td>\n",
              "      <td>State Park</td>\n",
              "      <td>1508.53</td>\n",
              "      <td>0.000751</td>\n",
              "      <td>0.212196</td>\n",
              "    </tr>\n",
              "    <tr>\n",
              "      <th>24</th>\n",
              "      <td>42</td>\n",
              "      <td>Pelican Point State Recreation Area</td>\n",
              "      <td>State Recreation Area</td>\n",
              "      <td>25.22</td>\n",
              "      <td>0.000013</td>\n",
              "      <td>0.026357</td>\n",
              "    </tr>\n",
              "    <tr>\n",
              "      <th>8</th>\n",
              "      <td>29</td>\n",
              "      <td>Lewis and Clark Interpretive Center</td>\n",
              "      <td>Interpretive Center</td>\n",
              "      <td>14.71</td>\n",
              "      <td>0.000007</td>\n",
              "      <td>0.016774</td>\n",
              "    </tr>\n",
              "    <tr>\n",
              "      <th>17</th>\n",
              "      <td>38</td>\n",
              "      <td>Fahlgren Park State Recreation Area</td>\n",
              "      <td>State Recreation Area</td>\n",
              "      <td>21.56</td>\n",
              "      <td>0.000010</td>\n",
              "      <td>0.013294</td>\n",
              "    </tr>\n",
              "    <tr>\n",
              "      <th>15</th>\n",
              "      <td>34</td>\n",
              "      <td>Lake Sakakawea State Park</td>\n",
              "      <td>State Park</td>\n",
              "      <td>739.52</td>\n",
              "      <td>0.000357</td>\n",
              "      <td>0.191806</td>\n",
              "    </tr>\n",
              "  </tbody>\n",
              "</table>\n",
              "</div>"
            ],
            "text/plain": [
              "    OBJECTID                              UNIT_NAME  ... SHAPE.AREA  SHAPE.LEN\n",
              "9         30      Fort Mandan State Recreation Area  ...   0.000005   0.009396\n",
              "22        44  Turtle Mountain State Recreation Area  ...   0.000345   0.086487\n",
              "13        36  Crow Flies High State Recreation Area  ...   0.000120   0.050518\n",
              "1         22                 Beaver Lake State Park  ...   0.000129   0.080067\n",
              "14        33                Turtle River State Park  ...   0.000378   0.145220\n",
              "6         27              Lake Metigoshe State Park  ...   0.000751   0.212196\n",
              "24        42    Pelican Point State Recreation Area  ...   0.000013   0.026357\n",
              "8         29    Lewis and Clark Interpretive Center  ...   0.000007   0.016774\n",
              "17        38    Fahlgren Park State Recreation Area  ...   0.000010   0.013294\n",
              "15        34              Lake Sakakawea State Park  ...   0.000357   0.191806\n",
              "\n",
              "[10 rows x 6 columns]"
            ]
          },
          "metadata": {},
          "execution_count": 10
        }
      ]
    },
    {
      "cell_type": "markdown",
      "metadata": {
        "id": "7ZdOdwhtpM_N"
      },
      "source": [
        "9)Add a Feature called 'New_feature' to the new Dataset and Add Random float Values in between 0 and 1 using Numpy."
      ]
    },
    {
      "cell_type": "code",
      "metadata": {
        "colab": {
          "base_uri": "https://localhost:8080/"
        },
        "id": "WrWa4wg-pY56",
        "outputId": "a9e4deef-6ebd-49d9-c56b-a7339914e697"
      },
      "source": [
        "df = df.assign(New_feature = np.random.random())\n",
        "\n",
        "print(df)"
      ],
      "execution_count": 11,
      "outputs": [
        {
          "output_type": "stream",
          "text": [
            "    OBJECTID  ... New_feature\n",
            "0         21  ...     0.95642\n",
            "1         22  ...     0.95642\n",
            "2         23  ...     0.95642\n",
            "3         24  ...     0.95642\n",
            "4         25  ...     0.95642\n",
            "5         26  ...     0.95642\n",
            "6         27  ...     0.95642\n",
            "7         28  ...     0.95642\n",
            "8         29  ...     0.95642\n",
            "9         30  ...     0.95642\n",
            "10        31  ...     0.95642\n",
            "11        32  ...     0.95642\n",
            "12        35  ...     0.95642\n",
            "13        36  ...     0.95642\n",
            "14        33  ...     0.95642\n",
            "15        34  ...     0.95642\n",
            "16        37  ...     0.95642\n",
            "17        38  ...     0.95642\n",
            "18        39  ...     0.95642\n",
            "19        40  ...     0.95642\n",
            "20        41  ...     0.95642\n",
            "21        43  ...     0.95642\n",
            "22        44  ...     0.95642\n",
            "23        45  ...     0.95642\n",
            "24        42  ...     0.95642\n",
            "\n",
            "[25 rows x 7 columns]\n"
          ],
          "name": "stdout"
        }
      ]
    },
    {
      "cell_type": "code",
      "metadata": {
        "colab": {
          "base_uri": "https://localhost:8080/"
        },
        "id": "bWaPklOJpxmm",
        "outputId": "dd0163d8-1aec-43f6-ffc5-ab74aca366a1"
      },
      "source": [
        "df.info()"
      ],
      "execution_count": 12,
      "outputs": [
        {
          "output_type": "stream",
          "text": [
            "<class 'pandas.core.frame.DataFrame'>\n",
            "RangeIndex: 25 entries, 0 to 24\n",
            "Data columns (total 7 columns):\n",
            " #   Column       Non-Null Count  Dtype  \n",
            "---  ------       --------------  -----  \n",
            " 0   OBJECTID     25 non-null     int64  \n",
            " 1   UNIT_NAME    25 non-null     object \n",
            " 2   DESCRIPTION  25 non-null     object \n",
            " 3   ACRES        25 non-null     float64\n",
            " 4   SHAPE.AREA   25 non-null     float64\n",
            " 5   SHAPE.LEN    25 non-null     float64\n",
            " 6   New_feature  25 non-null     float64\n",
            "dtypes: float64(4), int64(1), object(2)\n",
            "memory usage: 1.5+ KB\n"
          ],
          "name": "stdout"
        }
      ]
    },
    {
      "cell_type": "markdown",
      "metadata": {
        "id": "bwlMfkKVqPzi"
      },
      "source": [
        "10) Replace zero value of column 'OBJECTID' with mean value permanently."
      ]
    },
    {
      "cell_type": "code",
      "metadata": {
        "colab": {
          "base_uri": "https://localhost:8080/"
        },
        "id": "Kvlbgbo2qa_9",
        "outputId": "1f347a30-c5c9-4941-a9e9-e4f031f93764"
      },
      "source": [
        "print(df['OBJECTID'].mean())"
      ],
      "execution_count": 13,
      "outputs": [
        {
          "output_type": "stream",
          "text": [
            "33.0\n"
          ],
          "name": "stdout"
        }
      ]
    },
    {
      "cell_type": "code",
      "metadata": {
        "id": "3TLkLgAUquVc"
      },
      "source": [
        "df['OBJECTID'] = df['OBJECTID'].replace(33,0)\n"
      ],
      "execution_count": 16,
      "outputs": []
    },
    {
      "cell_type": "code",
      "metadata": {
        "colab": {
          "base_uri": "https://localhost:8080/"
        },
        "id": "1bWC3qWcrEzA",
        "outputId": "fafe7eeb-1678-4af5-ecf0-6a0035d05689"
      },
      "source": [
        "\n",
        "df.OBJECTID"
      ],
      "execution_count": 17,
      "outputs": [
        {
          "output_type": "execute_result",
          "data": {
            "text/plain": [
              "0     21\n",
              "1     22\n",
              "2     23\n",
              "3     24\n",
              "4     25\n",
              "5     26\n",
              "6     27\n",
              "7     28\n",
              "8     29\n",
              "9     30\n",
              "10    31\n",
              "11    32\n",
              "12    35\n",
              "13    36\n",
              "14     0\n",
              "15    34\n",
              "16    37\n",
              "17    38\n",
              "18    39\n",
              "19    40\n",
              "20    41\n",
              "21    43\n",
              "22    44\n",
              "23    45\n",
              "24    42\n",
              "Name: OBJECTID, dtype: int64"
            ]
          },
          "metadata": {},
          "execution_count": 17
        }
      ]
    }
  ]
}